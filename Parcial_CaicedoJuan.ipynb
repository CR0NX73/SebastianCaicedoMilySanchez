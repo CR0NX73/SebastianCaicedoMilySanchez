{
 "cells": [
  {
   "cell_type": "code",
   "execution_count": 7,
   "metadata": {},
   "outputs": [],
   "source": [
    "import numpy as np\n",
    "import matplotlib.pyplot as plt\n",
    "from matplotlib import rc\n",
    "from tqdm import tqdm"
   ]
  },
  {
   "cell_type": "code",
   "execution_count": 8,
   "metadata": {},
   "outputs": [
    {
     "name": "stdout",
     "output_type": "stream",
     "text": [
      "[0.0000e+00 1.5000e-02 3.0000e-02 ... 2.9955e+01 2.9970e+01 2.9985e+01]\n",
      "2000\n",
      "[15, 0.39269908169872414] [0, 0]\n"
     ]
    }
   ],
   "source": [
    "k=5\n",
    "l=3\n",
    "m=2\n",
    "g=9.8\n",
    "r0=15\n",
    "theta0=np.pi/8\n",
    "r0_dot=0\n",
    "theta0_dot=0\n",
    "h=0.015\n",
    "t=np.arange(0,30,h)\n",
    "print(t)\n",
    "print(len(t))\n",
    "y0=[r0,theta0]\n",
    "v0=[r0_dot, theta0_dot]\n",
    "\n",
    "print(y0,v0)"
   ]
  },
  {
   "cell_type": "code",
   "execution_count": 9,
   "metadata": {},
   "outputs": [],
   "source": [
    "def r_2dot(r,r_dot, theta, theta_dot):\n",
    "    return (k/m)*(l-r)+g*np.cos(theta)+r*theta_dot**2\n",
    "\n",
    "def theta_2dot(r,r_dot, theta, theta_dot):\n",
    "    return -g/r*np.sin(theta)-2/r*r_dot*theta_dot"
   ]
  },
  {
   "cell_type": "code",
   "execution_count": 10,
   "metadata": {},
   "outputs": [],
   "source": [
    "a=r_2dot\n",
    "z=theta_2dot"
   ]
  },
  {
   "cell_type": "code",
   "execution_count": 15,
   "metadata": {},
   "outputs": [],
   "source": [
    "def Beeman(y0,h,N,t):\n",
    "    \n",
    "    r = np.zeros((len(t),len(y0)))\n",
    "    v = np.zeros((len(t),len(y0)))\n",
    "    vc_= np.zeros((len(t),len(y0)))\n",
    "\n",
    "    r[0]=y0\n",
    "    v[0]=v0\n",
    "    \n",
    "    \n",
    "    \n",
    "    \n",
    "    for i in range(1,len(t)-1):\n",
    "        rv=np.zeros(2)\n",
    "        vv=np.zeros(2)\n",
    "        vc=np.zeros(2)\n",
    "\n",
    "        rv[0]=r[i][0]+h*v[i][0] + (1/6)*(4*a(r[i][0],v[i][0], r[i][1], v[i][1])-a(r[i-1][0],v[i-1][0], r[i-1][1], v[i-1][1]))*h**2\n",
    "        rv[1]=r[i][1]+h*v[i][1] + (1/6)*(4*z(r[i][0],v[i][0], r[i][1], v[i][1])-z(r[i-1][0],v[i-1][0], r[i-1][1], v[i-1][1]))*h**2\n",
    "        r[i]=rv\n",
    "    \n",
    "\n",
    "        vv[0]=v[i][0]+.5*(3*a(r[i][0],v[i][0], r[i][1], v[i][1])-a(r[i-1][0],v[i-1][0], r[i-1][1], v[i-1][1]))*h\n",
    "        vv[1]=v[i][1]+.5*(3*z(r[i][0],v[i][0], r[i][1], v[i][1])-z(r[i-1][0],v[i-1][0], r[i-1][1], v[i-1][1]))*h\n",
    "        v[i]=vv\n",
    "        \n",
    "    #Corrector\n",
    "        vc[0]=v[i][0]+(1/12)*(5*a(r[i+1][0],v[i+1][0], r[i+1][1], v[i+1][1])+8*a(r[i][0],v[i][0], r[i][1], v[i][1])-a(r[i-1][0],v[i-1][0], r[i-1][1], v[i-1][1]))*h\n",
    "        vc[1]=v[i][1]+(1/12)*(5*z(r[i+1][0],v[i+1][0], r[i+1][1], v[i+1][1])+8*z(r[i][0],v[i][0], r[i][1], v[i][1])-z(r[i-1][0],v[i-1][0], r[i-1][1], v[i-1][1]))*h    \n",
    "        vc_[i]=vc\n",
    "                            \n",
    "    return r,v,vc_\n",
    "    "
   ]
  },
  {
   "cell_type": "code",
   "execution_count": 16,
   "metadata": {},
   "outputs": [
    {
     "name": "stderr",
     "output_type": "stream",
     "text": [
      "/Users/Sebastian/opt/anaconda3/lib/python3.7/site-packages/ipykernel_launcher.py:5: RuntimeWarning: divide by zero encountered in double_scalars\n",
      "  \"\"\"\n",
      "/Users/Sebastian/opt/anaconda3/lib/python3.7/site-packages/ipykernel_launcher.py:5: RuntimeWarning: invalid value encountered in double_scalars\n",
      "  \"\"\"\n"
     ]
    },
    {
     "name": "stdout",
     "output_type": "stream",
     "text": [
      "(array([[1.50000000e+01, 3.92699082e-01],\n",
      "       [3.38047427e-03,            nan],\n",
      "       [           nan,            nan],\n",
      "       ...,\n",
      "       [           nan,            nan],\n",
      "       [           nan,            nan],\n",
      "       [0.00000000e+00, 0.00000000e+00]]), array([[ 0.,  0.],\n",
      "       [nan, nan],\n",
      "       [nan, nan],\n",
      "       ...,\n",
      "       [nan, nan],\n",
      "       [nan, nan],\n",
      "       [ 0.,  0.]]), array([[ 0.,  0.],\n",
      "       [nan, nan],\n",
      "       [nan, nan],\n",
      "       ...,\n",
      "       [nan, nan],\n",
      "       [nan, nan],\n",
      "       [ 0.,  0.]]))\n"
     ]
    }
   ],
   "source": [
    "print(Beeman(y0,0.015,2001,t))"
   ]
  },
  {
   "cell_type": "code",
   "execution_count": null,
   "metadata": {},
   "outputs": [],
   "source": [
    "\n",
    "x, y= r[:,0]*np.cos(r[:,1]), r[:,0]*np.sin(r[:,1])\n",
    "plt.plot(x,y)"
   ]
  },
  {
   "cell_type": "code",
   "execution_count": null,
   "metadata": {},
   "outputs": [],
   "source": [
    "r=np.zeros(2)\n",
    "print(r)"
   ]
  },
  {
   "cell_type": "code",
   "execution_count": null,
   "metadata": {},
   "outputs": [],
   "source": [
    "r[0]=y0"
   ]
  },
  {
   "cell_type": "code",
   "execution_count": null,
   "metadata": {},
   "outputs": [],
   "source": []
  }
 ],
 "metadata": {
  "kernelspec": {
   "display_name": "Python 3",
   "language": "python",
   "name": "python3"
  },
  "language_info": {
   "codemirror_mode": {
    "name": "ipython",
    "version": 3
   },
   "file_extension": ".py",
   "mimetype": "text/x-python",
   "name": "python",
   "nbconvert_exporter": "python",
   "pygments_lexer": "ipython3",
   "version": "3.7.4"
  }
 },
 "nbformat": 4,
 "nbformat_minor": 2
}
